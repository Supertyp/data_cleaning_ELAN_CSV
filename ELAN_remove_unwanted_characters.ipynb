{
 "cells": [
  {
   "cell_type": "markdown",
   "id": "372ae05c",
   "metadata": {},
   "source": [
    "# TODO: ELAN to CSV\n",
    "\n",
    "\n",
    "## 1. clean the elan file content\n",
    "\n",
    "## 2. save a CSV version of the ELAN file, format:\n",
    "\n",
    "Transcript | IU_number | start_time | end_time | speaker | IU\t\n",
    "AAE_MF_002_Stella | 1 | 02:04.1 | 02:09.1 | INT: Sylvie | So do you do you did you went to the school chiao zhou like all the way \t\n",
    "\n",
    "This notebook finds all non-printable characters in ELAN files and allows the user to replace them. \n",
    "\n",
    "For example, curly quotes can be replaces with normal quotes: \n",
    "\n",
    "# ’ becomes '\n",
    "\n",
    "To filters out any non standard character from the annotations the notebook creates and provides a dictionary that can be edited manually to change the characters\n",
    "\n",
    "1. Import raw files: reads all characters from file\n",
    "2. Find all unusual characters: shows all non-printable characters\n",
    "3. MANUAL STEP: edit the replacement dictionary\n",
    "4. Clean all files: Apply the new dictionary to the files\n",
    "\n",
    "<div class=\"alert alert-block alert-warning\">\n",
    "<b>User guide to using a Jupyter Notebook</b> \n",
    "\n",
    "If you are new to Jupyter Notebook, feel free to take a quick look at [this user guide](https://github.com/Australian-Text-Analytics-Platform/semantic-tagger/blob/main/documents/jupyter-notebook-guide.pdf) for basic information on how to use a notebook.\n",
    "</div>\n",
    "\n",
    "## 1. Import raw files\n",
    "The first step is to load all files which should be cleaned"
   ]
  },
  {
   "cell_type": "code",
   "execution_count": 5,
   "id": "c406ea24",
   "metadata": {},
   "outputs": [
    {
     "name": "stdout",
     "output_type": "stream",
     "text": [
      "+++ Ready +++\n"
     ]
    },
    {
     "data": {
      "application/vnd.jupyter.widget-view+json": {
       "model_id": "5d2c40513fda4f3184272cfd6915ffac",
       "version_major": 2,
       "version_minor": 0
      },
      "text/plain": [
       "SelectFilesButton(description='Select Files', icon='square-o', style=ButtonStyle(button_color='orange'))"
      ]
     },
     "metadata": {},
     "output_type": "display_data"
    },
    {
     "name": "stdout",
     "output_type": "stream",
     "text": [
      "tree\n",
      "[]\n"
     ]
    }
   ],
   "source": [
    "import os\n",
    "import re\n",
    "import glob\n",
    "import json\n",
    "import string\n",
    "import traitlets\n",
    "import xml.etree.ElementTree as ET\n",
    "\n",
    "from ipywidgets import widgets\n",
    "from IPython.display import display\n",
    "from tkinter import Tk, filedialog\n",
    "\n",
    "\n",
    "class SelectFilesButton(widgets.Button):\n",
    "    \"\"\"A file widget that leverages tkinter.filedialog.\"\"\"\n",
    "\n",
    "    def __init__(self):\n",
    "        super(SelectFilesButton, self).__init__()\n",
    "        # Add the selected_files trait\n",
    "        self.add_traits(files=traitlets.traitlets.List())\n",
    "        # Create the button.\n",
    "        self.description = \"Select Files\"\n",
    "        self.icon = \"square-o\"\n",
    "        self.style.button_color = \"orange\"\n",
    "        # Set on click behavior.\n",
    "        self.on_click(self.select_files)\n",
    "\n",
    "    @staticmethod\n",
    "    def select_files(b):\n",
    "        print (\"tree\")\n",
    "        \"\"\"Generate instance of tkinter.filedialog.\n",
    "\n",
    "        Parameters\n",
    "        ----------\n",
    "        b : obj:\n",
    "            An instance of ipywidgets.widgets.Button \n",
    "        \"\"\"\n",
    "        # Create Tk root\n",
    "        root = Tk()\n",
    "        # Hide the main window\n",
    "        root.withdraw()\n",
    "        # Raise the root to the top of all windows.\n",
    "        root.call('wm', 'attributes', '.', '-topmost', True)\n",
    "        # List of selected fileswill be set to b.value\n",
    "        b.files = filedialog.askopenfilename(multiple=True)\n",
    "\n",
    "        b.description = \"Files Selected\"\n",
    "        b.icon = \"check-square-o\"\n",
    "        b.style.button_color = \"lightgreen\"\n",
    "        # In a different cell of the same Jupyter Notebook You can access the file list by using the following:\n",
    "        files = my_button.files\n",
    "        files = [ fi for fi in files if fi.endswith(\".eaf\") ]\n",
    "        print (files)\n",
    "\n",
    "\n",
    "\n",
    "print(\"+++ Ready +++\")\n",
    "\n",
    "my_button = SelectFilesButton()\n",
    "my_button # This will display the button in the context of the Notebook"
   ]
  },
  {
   "cell_type": "markdown",
   "id": "5eeb6288",
   "metadata": {},
   "source": [
    "## 2. Find all unusual characters\n",
    "The following code-block finds all non standard characters in the ELAN annotations"
   ]
  },
  {
   "cell_type": "code",
   "execution_count": 3,
   "id": "dc80473b",
   "metadata": {},
   "outputs": [
    {
     "name": "stdout",
     "output_type": "stream",
     "text": [
      "\n",
      "\n",
      "non-standard characters found:\n",
      "{}\n"
     ]
    }
   ],
   "source": [
    "# finds all non printable characters in a dictionary\n",
    "\n",
    "# In a different cell of the same Jupyter Notebook You can access the file list by using the following:\n",
    "files = my_button.files\n",
    "files = [ fi for fi in files if fi.endswith(\".eaf\") ]\n",
    "#print (files)\n",
    "\n",
    "# out_path is where the anonymised files and the replacment dictionary will be stored\n",
    "#out_path = \"/\".join(files[0].split(\"/\")[:-1]) + \"/\"\n",
    "\n",
    "def annotation_finder(file):\n",
    "    tree = ET.parse(file)\n",
    "    root = tree.getroot()\n",
    "    return root.iter('ANNOTATION_VALUE')\n",
    "\n",
    "\n",
    "printable = set(string.printable)\n",
    "\"\"\"{'C', '.', 'U', 'w', '^', '9', 'j', '3', '$', '0', 'D', '\\n', '+', '~', 'e', '|', 'c', 'P', '7',\n",
    "    'O', 'Y', 'r', 'm', 'M', '-', '5', '=', 'y', 'q', 'o', 'I', ':', 'a', '\"', '{', '8', 'J', 'K', \n",
    "    '}', 'V', 'N', 'G', 'W', '*', 'l', 'z', 'Z', 'i', '\\x0b', '(', '6', 'X', 't', '&', '<', 'R', 'p',\n",
    "    '#', 'F', 'b', 'L', 'B', 'S', '@', '_', 'n', '[', \"'\", '\\r', 'f', 'h', 'u', '!', '>', 'A', 'v', \n",
    "    '?', ' ', ',', 'k', 'd', 'Q', '\\x0c', '\\t', '/', '2', '1', 'x', '\\\\', 'g', '%', ')', 'T', 's', \n",
    "    '4', 'E', 'H', '`', ']', ';'}\"\"\"\n",
    "\n",
    "found = {}\n",
    "for file in files:\n",
    "    print (\"\\n--------------------------------------------------------------\")\n",
    "    print (file)\n",
    "    for each in annotation_finder(file):\n",
    "        if each.text:\n",
    "            for letter in each.text:\n",
    "                \n",
    "                if letter not in printable:\n",
    "                    \n",
    "                    print (letter, \" -- \", each.text)\n",
    "                    if letter not in found:\n",
    "                        found[letter] = letter\n",
    "                        \n",
    "print (\"\\n\\nnon-standard characters found:\")\n",
    "print (found)"
   ]
  },
  {
   "cell_type": "markdown",
   "id": "09f75fb3",
   "metadata": {},
   "source": [
    "## 3. Manual Step: edit the replacement dictionary\n",
    "\n",
    "copy the dictionary { . . . } from above into the following textbox in line 2 after <span style=\"background-color: #FFFF00\">replacements =</span>  \n",
    "\n",
    "The dictionary always has: key : value    for each of the found characters. \n",
    "right now the key and value are the same.\n",
    "Change the value to what you want the key to be replaced with.\n",
    "\n",
    "e.g.:\n",
    "\n",
    " \n",
    "```{'…': '...'} ```\n",
    "\n",
    "will raplace: I see … \n",
    "\n",
    "to:           I see . . . "
   ]
  },
  {
   "cell_type": "markdown",
   "id": "0863cc68",
   "metadata": {},
   "source": [
    "## 4. Clean all files\n",
    "run the following code box to clean all input files"
   ]
  },
  {
   "cell_type": "code",
   "execution_count": 9,
   "id": "28654a9e",
   "metadata": {},
   "outputs": [
    {
     "name": "stdout",
     "output_type": "stream",
     "text": [
      "+++ DONE +++\n",
      "\n",
      " Clean files:\n",
      "C:/Users/barth/Documents/LDACA/jupyter_notebooks/Clean_Raw_Data/AAE_MF_002_Stella.eaf\n"
     ]
    }
   ],
   "source": [
    "# add the replacment dict and make the edits you need. \n",
    "#replacements = {'’': \"'\", '…': '...'}\n",
    "replacements = {'’': \"'\", '…': '...'} #sydney speaks\n",
    "\n",
    "folder_path = \"C:\\\\Users\\\\barth\\\\Documents\\\\LDACA\\\\jupyter_notebooks\\\\ELAN_to_CSV\\\\output\\\\\"\n",
    "for file in files:\n",
    "    outfile = folder_path + file.split('/')[-1]\n",
    "    \n",
    "    with open(file, \"r\", encoding=\"utf-8\") as inf:\n",
    "        \n",
    "        tree = ET.parse(file)\n",
    "        root = tree.getroot()\n",
    "        \n",
    "        for each in root.iter('ANNOTATION_VALUE'):\n",
    "\n",
    "            if each.text:\n",
    "                for replacee, replacement in replacements.items():\n",
    "                    each.text.replace(replacee, replacement)\n",
    "\n",
    "        tree.write(outfile)\n",
    "\n",
    "print (\"+++ DONE +++\\n\\n Clean files:\")\n",
    "print (file)"
   ]
  },
  {
   "cell_type": "code",
   "execution_count": null,
   "id": "eba31320",
   "metadata": {},
   "outputs": [],
   "source": []
  }
 ],
 "metadata": {
  "kernelspec": {
   "display_name": "Python 3 (ipykernel)",
   "language": "python",
   "name": "python3"
  },
  "language_info": {
   "codemirror_mode": {
    "name": "ipython",
    "version": 3
   },
   "file_extension": ".py",
   "mimetype": "text/x-python",
   "name": "python",
   "nbconvert_exporter": "python",
   "pygments_lexer": "ipython3",
   "version": "3.10.9"
  }
 },
 "nbformat": 4,
 "nbformat_minor": 5
}
